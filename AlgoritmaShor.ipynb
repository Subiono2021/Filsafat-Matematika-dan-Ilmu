{
  "nbformat": 4,
  "nbformat_minor": 0,
  "metadata": {
    "colab": {
      "private_outputs": true,
      "provenance": [],
      "gpuType": "T4",
      "authorship_tag": "ABX9TyMxZDFsjUKgEN0KR1NsrL43",
      "include_colab_link": true
    },
    "kernelspec": {
      "name": "python3",
      "display_name": "Python 3"
    },
    "language_info": {
      "name": "python"
    }
  },
  "cells": [
    {
      "cell_type": "markdown",
      "metadata": {
        "id": "view-in-github",
        "colab_type": "text"
      },
      "source": [
        "<a href=\"https://colab.research.google.com/github/Subiono2021/Filsafat-Matematika-dan-Ilmu/blob/main/AlgoritmaShor.ipynb\" target=\"_parent\"><img src=\"https://colab.research.google.com/assets/colab-badge.svg\" alt=\"Open In Colab\"/></a>"
      ]
    },
    {
      "cell_type": "markdown",
      "source": [
        "<center>\n",
        "\n",
        "![image.png](data:image/png;base64,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)\n",
        "\n",
        "</center>\n",
        "\n",
        "<center>\n",
        "<p><h2>\n",
        "Pemfaktoran bilangan bulat menggunakan Algoritma Shor dan implementasinya dalam Qiskit\n",
        "</h2>\n",
        "</p>\n",
        "<b>Subiono</b><br>\n",
        "<b>Departemen Matematika, Institut Teknologi Sepuluh Nopember</b><br>\n",
        "<b>subiono@its.ac.id</b><br>\n",
        "</b>11 April  2027</b></center\n",
        "</center>\n",
        "<p class=\"noindent\">Copyright &copy; 2027 by the author Subiono.</p>"
      ],
      "metadata": {
        "id": "QJbEQl93EGvE"
      }
    },
    {
      "cell_type": "markdown",
      "source": [
        "<p align=\"justify\">\n",
        "Memfaktor suatu bilangan bulat positip $N$ yang sangat besar secara klasik membutuhkan waktu komputasi yang cukup besar. Kita mengenal dalam sekolah dasar dan menengah untuk memfaktorkan suatu bilangan bulat digunakan cara coba-coba, yaitu yang dikenal dengan cara pohon faktor. Hal ini tentunya tidak sangat mendidik sebab caranya coba-coba. Misalnya kita mempunyai bilangan bulat $N=9711=117\\times 83=p\\times q$. Untuk menemukan $p$ dan $q$ dengan cara pohon faktor suatu pekerjaan yang tidak mudah dilakukan. Tulisan ini bertujuan memberikan suatu cara memfaktorkan  sebarang bilangan bulat $N$ yang dikenal dengan nama <b>Algoritma Shor</b>. Komputasi Kuantum dari algoritma ini kita implementasikan dalam Qiskit. Pembaca bisa mengikuti paper \"<a href=\"https://arxiv.org/abs/quant-ph/0205095\">Circuit for Shor's algorithm using 2n+3 qubits</a>\", yang membahas tentang Algoritma Shor. Ide dasarnya menggunakan bilangan bulat modulo $N$ dan menganalisa perilakunya pada grup unit $\\mathbb{U}(N)$, yaitu himpunan bilangan bulat modulo $N$ yang semua elemen-elemennya mempunyai invers terhadap perkalian. Tentunya hal ini di Departemen Matematika-ITS materi ini telah diberikan dalam mata kuliah Aljabar I. Tulisannya ini juga diharapkan untuk memeberikan pemahaman yang lebih memdalam dan penggunaan dari bilangan bulat modulo $N$. Selain itu akan menambah bahan kajian Aljabar I dalam kurikulum 2024-2029 Departemen Matematika-ITS.</p>"
      ],
      "metadata": {
        "id": "pHwQDoOpGmck"
      }
    },
    {
      "cell_type": "markdown",
      "source": [
        "<h3>\n",
        "<a href=\"https://qiskit.org/textbook/ch-algorithms/shor.html\">Algoritma Shor</a>\n",
        "</h3>\n",
        "\n",
        "<p style='justify'>\n",
        "Algoritma Shor terkenal dengan pemfaktoran bilangan bulat dalam waktu polinomial. Karena algoritma klasik yang paling terkenal membutuhkan waktu superpolinomial untuk memfaktorkan produk dari dua bilangan prima, kriptosistem yang banyak digunakan, RSA, bergantung pada pemfaktoran yang tidak mungkin untuk bilangan bulat yang cukup besar.\n",
        "</p>"
      ],
      "metadata": {
        "id": "0a2Z0_32Legk"
      }
    },
    {
      "cell_type": "markdown",
      "source": [
        "<p style='justify'>\n",
        "Dalam bagian ini kita akan fokus pada bagian kuantum dari algoritma Shor, yang sebenarnya memecahkan masalah pencarian periode. Karena masalah pemfaktoran dapat diubah menjadi masalah pencarian periode dalam waktu polinomial, algoritma pencarian periode yang efisien juga dapat digunakan untuk memfaktorkan bilangan bulat secara efisien. Untuk saat ini cukup untuk menunjukkan bahwa jika kita dapat menghitung periode $a^x\\bmod N$ secara efisien, maka kita juga dapat memfaktorkannya secara efisien. Disini yang dimaksud periode adalah order dari elemen $a\\in\\mathbb{U}(N)$ adalah bilangan bulat positip terkecil $x$ yang memenuhi $a^x\\equiv 1\\mod N$ (lihat di\n",
        "<a href=\"https://www.its.ac.id/matematika/aljabar-suatu-pondasi-matematika/\"> Aljabar: Suatu Pondasi Matematika, Subiono</a>. Karena pencarian periode merupakan masalah yang layak, pertama-tama kita akan menyelesaikannya, kemudian mendiskusikan bagaimana ini dapat digunakan untuk memfaktorkan di bagian 5.\n",
        "<br>\n",
        "<br>\n",
        "Untuk menjalankan Algoritma Shor dalam Qiskit, kita install beberapa perangkat yang dibutuhkan sebagai berikut:\n",
        "</p>"
      ],
      "metadata": {
        "id": "Llhiz2E6MiWL"
      }
    },
    {
      "cell_type": "code",
      "source": [
        "!pip install 'qiskit >= 1'\n",
        "!pip install qiskit-ibm-runtime\n",
        "!pip install qiskit[visualization]\n",
        "!pip install git+https://github.com/qiskit-community/qiskit-textbook.git#subdirectory=qiskit-textbook-src\n",
        "!pip install qiskit-aer\n",
        "!pip install qiskit-ibm-provider\n",
        "!pip install pylatexenc\n",
        "!pip install tweedledum"
      ],
      "metadata": {
        "id": "GI3H7O-aNoN7"
      },
      "execution_count": null,
      "outputs": []
    },
    {
      "cell_type": "markdown",
      "source": [
        "Kita bisa melihat versi Qiskit yang digunakan sebagai berikut:"
      ],
      "metadata": {
        "id": "XZTvftP1zSz9"
      }
    },
    {
      "cell_type": "code",
      "source": [
        "import qiskit\n",
        "\n",
        "qiskit.version.get_version_info()"
      ],
      "metadata": {
        "id": "OYHlsFtNzeSh"
      },
      "execution_count": null,
      "outputs": []
    },
    {
      "cell_type": "markdown",
      "source": [
        "Selanjutnya kita <code>import</code> beberapa perangkat lainnya yang kita butuhkan:"
      ],
      "metadata": {
        "id": "TiGl6WP1z6rA"
      }
    },
    {
      "cell_type": "code",
      "source": [
        "import numpy as np\n",
        "from qiskit import *\n",
        "from qiskit import QuantumCircuit\n",
        "from qiskit.visualization import plot_histogram, plot_gate_map\n",
        "from qiskit.visualization import array_to_latex\n",
        "from qiskit.quantum_info import Statevector\n",
        "from numpy import matmul\n",
        "from numpy import transpose\n",
        "from numpy import sqrt, pi\n",
        "from numpy import array\n",
        "from qiskit.visualization import plot_histogram\n",
        "from qiskit_aer import AerSimulator\n",
        "from qiskit_ibm_runtime import QiskitRuntimeService\n",
        "import matplotlib.pyplot as plt\n",
        "from math import gcd\n",
        "from numpy.random import randint\n",
        "import pandas as pd\n",
        "from fractions import Fraction\n",
        "print(\"Imports Successful\")"
      ],
      "metadata": {
        "id": "yqZuo1QhlNvI"
      },
      "execution_count": null,
      "outputs": []
    },
    {
      "cell_type": "markdown",
      "source": [
        "## 1. Permasalahan: Menemukan Periode\n",
        "\n",
        "<p style='justify'>\n",
        "Berikutnya kita bahas fungsi periodik:\n",
        "$$\n",
        "f(x) = a^{x} \\pmod N.\n",
        "$$\n",
        "<b>Pengingat</b>: Modulo & Aritmatika Modular. Operasi modulo (disingkat 'mod') secara sederhana berarti mencari sisa pembagian satu bilangan oleh bilangan lainnya. Contoh:\n",
        "$$\n",
        "13 \\mod 5 = 2,\n",
        "$$\n",
        "sebab $13\\div 5 = 2$ dan sisa pembagian $3$, yaitu: $13 = 2\\times 5 + 3$. Dalam bahasa Python, operasi modulus digunakan perintah <code>%</code>.\n",
        "<br>\n",
        "<br>\n",
        "Perilaku ini digunakan dalam aritmetika modular, di mana angka \"<b>berputar</b>\" setelah mencapai nilai tertentu (modulus). Menggunakan aritmetika modular, kita dapat menulis:\n",
        "$$\n",
        "13 \\equiv 3 \\pmod 5.\n",
        "$$\n",
        "Perhatikan bahwa di sini $\\pmod 5$ berlaku untuk seluruh persamaan (karena berada dalam tanda kurung), berbeda dengan persamaan di atas di mana $\\mod 5$ hanya berlaku untuk ruas kiri persamaan. Disini $a$ dan $N$ adalah bilangan bulat positif, $a$ lebih kecil dari $N$, dan keduanya tidak memiliki faktor persekutuan. Periode, atau orde ($r$), adalah bilangan bulat positip terkecil (tidak nol) sedemikian sehingga:\n",
        "$$\n",
        "a^r \\mod N = 1.\n",
        "$$\n",
        "<b>Contoh</b>: Untuk $N=35$ kita mempunyai himpunan semua bilangan bulat $\\mod 35$ adalah\n",
        "$$\n",
        "\\mathbb{Z}_{35}=\\{0,1,2,3,4,5,6,7,8,9,10,11,12,13,14,15,16,17,18,19,20,21,22,23,24,25,26,27,28,29,30,31,32,33,34\\}\n",
        "$$\n",
        "dan grup unit terhadap operasi perkalian dari $N=35$ adalah\n",
        "$$\n",
        "\\mathbb{U}(35)=\\{1,2,3,4,6,8,9,11,12,13,16,17,18,19,22,23,24,26,27,29,31,32,33,\n",
        " 34\\}\n",
        "$$\n",
        "Banyaknya elemen-elemen di $\\mathbb{U}(35)$ dinamakan bilangan Euler dinotasikan sebagai $\\varphi(35)=24$ dan memenuhi\n",
        "$$\n",
        "a^{\\varphi(35)}=a^{24} = 1, \\forall a\\in \\mathbb{U}(35).\n",
        "$$\n",
        "Bilangan bulat positip terkecil $r$ yang memenuhi\n",
        "$$\n",
        "a^r \\mod 35 = 1, \\forall a\\in\\mathbb{U}(35)\n",
        "$$\n",
        "merupakan faktor-faktor dari $\\varphi(35)=24$ yang selain $24$ yaitu:\n",
        "$$\n",
        "1,2,3,4,6,12.\n",
        "$$\n",
        "Untuk $r=1$ jelas hanya ada satu elemen $a=1$. Untuk $r=2$ didapat $a=6,9,34$.\n",
        "Untuk $r=3$ didapat $a=11, 16$. Untuk $r=4$ didapat $a=8, 13, 22, 27$.\n",
        "Untuk $r=6$ didapat $a=4, 9, 19, 24, 26, 31$ dan untuk $r=12$ didapat $2, 3, 12, 17, 18, 23, 32, 33$.\n",
        "<br>\n",
        "<br>\n",
        "Program berikut menampilkan grafik fungsi periodik untuk $a\\in\\mathbb{U}(35)$.\n",
        "</p>"
      ],
      "metadata": {
        "id": "EmG_gfCM0xiV"
      }
    },
    {
      "cell_type": "code",
      "source": [
        "N = 35\n",
        "a = 12 # Anda bisa ganti dengan nilai a yang lain di U(35)\n",
        "\n",
        "# Hitung data pemetaan\n",
        "xvals = np.arange(35)\n",
        "yvals = [np.mod(a**x, N) for x in xvals]\n",
        "\n",
        "# Gunakan Matplotlib untuk menampilkannya dengan baik.\n",
        "fig, ax = plt.subplots()\n",
        "ax.plot(xvals, yvals, linewidth=1, linestyle='dotted', marker='x')\n",
        "ax.set(xlabel='$x$', ylabel=r'${a}^x$ mod ${N}$',\n",
        "       title=\"Contoh Fungsi Periodik dalam Algoritma Shor\")\n",
        "try: # plot r pada grafik\n",
        "    r = yvals[1:].index(1) + 1\n",
        "    plt.annotate('', xy=(0,1), xytext=(r,1),\n",
        "                 arrowprops=dict(arrowstyle='<->'))\n",
        "    plt.annotate(f'$r={r}$', xy=(r/3,1.5))\n",
        "except ValueError:\n",
        "    print('Tidak dapat menemukan periode, periksa a < N dan tidak memiliki faktor persekutuan.')"
      ],
      "metadata": {
        "id": "AxD64AnF8iGe"
      },
      "execution_count": null,
      "outputs": []
    },
    {
      "cell_type": "markdown",
      "source": [
        "## 2. Penyelesaian\n",
        "\n",
        "<p style='justify'>\n",
        "Penyelesaian Shor adalah dengan menggunakan <b>estimasi fase kuantum</b> pada operator unitari.\n",
        "$$\n",
        "U\\vert y\\rangle = \\vert ay \\mod N\\rangle.\n",
        "$$\n",
        "Untuk melihat bagaimana ini membantu, kita cari tahu seperti apa eigenstate dari $U$. Jika kita mulai dalam keadaan $|1⟩$, kita dapat melihat bahwa setiap penerapan $U$ yang berurutan akan mengalikan keadaan register kita dengan $a \\pmod N$, dan setelah $r$ penerapan kita akan kembali ke keadaan $|1⟩$. Sebagai contoh untuk $a=12$ dan $N=35$:\n",
        "\\begin{eqnarray*}\n",
        "U\\vert 1\\rangle &=& \\vert 12\\rangle\\\\\n",
        "U^2\\vert 1\\rangle &=& \\vert 4\\rangle\\\\\n",
        "U^3\\vert 1\\rangle &=& \\vert 13\\rangle\\\\\n",
        "&\\vdots&\\\\\n",
        "U^{(r-1)}\\vert 1\\rangle &=& \\vert 3\\rangle\\\\\n",
        "U^r\\vert 1\\rangle &=& \\vert 1\\rangle.\n",
        "\\end{eqnarray*}\n",
        "</p>"
      ],
      "metadata": {
        "id": "f__7yg0DtAzS"
      }
    },
    {
      "cell_type": "code",
      "source": [
        "ax.set(xlabel='Banyaknya penggunaan $U$',\n",
        "       ylabel='keadaan akhir register',\n",
        "       title=\"Efek Penggunaan Berurutan $U$\")\n",
        "fig"
      ],
      "metadata": {
        "id": "4YTp5nYItDdg"
      },
      "execution_count": null,
      "outputs": []
    },
    {
      "cell_type": "markdown",
      "source": [
        "<p style='justify'>\n",
        "Dengan demikian, superposisi keadaan-keadaan dalam siklus ini ($|u_0⟩$) akan merupakan keadaan-eigen (<em>eigenstate</em>) dari $U$:\n",
        "$$\n",
        "\\vert u_0\\rangle = \\frac{1}{\\sqrt{r}}\\sum_{k=0}^{r-1}\\vert a^k\\!\\!\\!\\mod N\\rangle.\n",
        "$$\n",
        "Contoh, untuk $a=12$ dan $N=35$, kita mempunyai\n",
        "\\begin{eqnarray*}\n",
        "\\vert u_0\\rangle &=& \\frac{1}{\\sqrt{12}}\\left(\\vert 1\\rangle + \\vert 12\\rangle+\\vert 4\\rangle + \\vert 13\\rangle + \\vert 16\\rangle + \\vert 17\\rangle + \\vert 29\\rangle + \\vert 33\\rangle + \\vert 11\\rangle + \\vert 27\\rangle + \\vert 9\\rangle + \\vert 3\\rangle\\right)\\\\\n",
        "U\\vert u_0\\rangle &=& \\frac{1}{\\sqrt{12}}\\left(U\\vert 1\\rangle + U\\vert 12\\rangle+U\\vert 4\\rangle + U\\vert 13\\rangle + U\\vert 16\\rangle + U\\vert 17\\rangle + U\\vert 29\\rangle + U\\vert 33\\rangle + U\\vert 11\\rangle\\right.\\\\\n",
        " &&\\qquad \\left.  +\\ U\\vert 27\\rangle + U\\vert 9\\rangle + U\\vert 3\\rangle \\right)\\\\\n",
        " &=& \\frac{1}{\\sqrt{12}}\\left(\\vert 12\\rangle+\\vert 4\\rangle + \\vert 13\\rangle + \\vert 16\\rangle + \\vert 17\\rangle + \\vert 29\\rangle + \\vert 33\\rangle + \\vert 11\\rangle + \\vert 27\\rangle + \\vert 9\\rangle + \\vert 3\\rangle + \\vert 1\\rangle\\right)\\\\\n",
        " &=& \\vert U_0\\rangle.\n",
        "\\end{eqnarray*}\n",
        "Keadaan-eigen ini memiliki nilai eigen sebesar $1$, yang tidak terlalu menarik. Keadaan-eigen yang lebih menarik adalah satu di mana fase berbeda untuk setiap basis komputasi tersebut. Secara spesifik, kita lihat kasus di mana fase dari keadaan ke-$k$ sebanding dengan $k$.\n",
        "\\begin{eqnarray*}\n",
        "\\vert u_1\\rangle &=& \\frac{1}{\\sqrt{r}}\\sum_{k=0}^{r-1}e^{-\\frac{2\\pi i k}{r}}\\vert a^k\\!\\!\\!\\mod N\\rangle\\\\\n",
        "U\\vert u_1\\rangle &=& e^{\\frac{2\\pi i}{r}}\\vert u_1\\rangle.\n",
        "\\end{eqnarray*}\n",
        "Contoh, untuk $a=12$ dan $N=35$ kita mempunyai\n",
        "\\begin{eqnarray*}\n",
        "\\vert u_1\\rangle &=& \\frac{1}{\\sqrt{12}}\\left(\\vert 1\\rangle + e^{-\\frac{2\\pi i}{12}}\\vert 12\\rangle+ e^{-\\frac{4\\pi i}{12}}\\vert 4\\rangle + e^{-\\frac{6\\pi i}{12}}\\vert 13\\rangle + e^{-\\frac{8\\pi i}{12}}\\vert 16\\rangle + e^{-\\frac{10\\pi i}{12}}\\vert 17\\rangle + e^{-\\frac{12\\pi i}{12}}\\vert 29\\rangle\\right.\\\\\n",
        "&&\\qquad +\\ \\left. e^{-\\frac{14\\pi i}{12}}\\vert 33\\rangle + e^{-\\frac{16\\pi i}{12}}\\vert 11\\rangle + e^{-\\frac{18\\pi i}{12}}\\vert 27\\rangle + e^{-\\frac{20\\pi i}{12}}\\vert 9\\rangle + e^{-\\frac{22\\pi i}{12}}\\vert 3\\rangle\\right)\\\\\n",
        "U\\vert u_1\\rangle &=& \\frac{1}{\\sqrt{12}}\\left(\\vert 12\\rangle + e^{-\\frac{2\\pi i}{12}}\\vert 4\\rangle+ e^{-\\frac{4\\pi i}{12}}\\vert 13\\rangle + e^{-\\frac{6\\pi i}{12}}\\vert 16\\rangle + e^{-\\frac{8\\pi i}{12}}\\vert 17\\rangle + e^{-\\frac{10\\pi i}{12}}\\vert 29\\rangle + e^{-\\frac{12\\pi i}{12}}\\vert 33\\rangle\\right.\\\\\n",
        "&&\\qquad +\\ \\left. e^{-\\frac{14\\pi i}{12}}\\vert 11\\rangle + e^{-\\frac{16\\pi i}{12}}\\vert 27\\rangle + e^{-\\frac{18\\pi i}{12}}\\vert 9\\rangle + e^{-\\frac{20\\pi i}{12}}\\vert 3\\rangle + e^{-\\frac{22\\pi i}{12}}\\vert 1\\rangle\\right)\\\\\n",
        "&=& e^{\\frac{2\\pi i}{12}}\\frac{1}{\\sqrt{12}}\\left(e^{-\\frac{2\\pi i}{12}}\\vert 12\\rangle + e^{-\\frac{4\\pi i}{12}}\\vert 4\\rangle+ e^{-\\frac{6\\pi i}{12}}\\vert 13\\rangle + e^{-\\frac{8\\pi i}{12}}\\vert 16\\rangle + e^{-\\frac{10\\pi i}{12}}\\vert 17\\rangle + e^{-\\frac{12\\pi i}{12}}\\vert 29\\rangle + e^{-\\frac{14\\pi i}{12}}\\vert 33\\rangle\\right.\\\\\n",
        "&&\\qquad +\\ \\left. e^{-\\frac{16\\pi i}{12}}\\vert 11\\rangle + e^{-\\frac{18\\pi i}{12}}\\vert 27\\rangle + e^{-\\frac{20\\pi i}{12}}\\vert 9\\rangle + e^{-\\frac{22\\pi i}{12}}\\vert 3\\rangle + e^{-\\frac{24\\pi i}{12}}\\vert 1\\rangle\\right)\\\\\n",
        " &=& e^{\\frac{2\\pi i}{12}}\\vert U_1\\rangle.\n",
        "\\end{eqnarray*}\n",
        "</p>"
      ],
      "metadata": {
        "id": "U7taxo4k0TCy"
      }
    },
    {
      "cell_type": "code",
      "source": [
        "def c_amod15(a, power):\n",
        "    \"\"\"Controlled multiplication by a mod 15\"\"\"\n",
        "    if a not in [2,4,7,8,11,13]:\n",
        "        raise ValueError(\"'a' must be 2,4,7,8,11 or 13\")\n",
        "    U = QuantumCircuit(4)\n",
        "    for _iteration in range(power):\n",
        "        if a in [2,13]:\n",
        "            U.swap(2,3)\n",
        "            U.swap(1,2)\n",
        "            U.swap(0,1)\n",
        "        if a in [7,8]:\n",
        "            U.swap(0,1)\n",
        "            U.swap(1,2)\n",
        "            U.swap(2,3)\n",
        "        if a in [4, 11]:\n",
        "            U.swap(1,3)\n",
        "            U.swap(0,2)\n",
        "        if a in [7,11,13]:\n",
        "            for q in range(4):\n",
        "                U.x(q)\n",
        "    U = U.to_gate()\n",
        "    U.name = f\"{a}^{power} mod 15\"\n",
        "    return U.control()"
      ],
      "metadata": {
        "id": "HZMgvr40hG7U"
      },
      "execution_count": null,
      "outputs": []
    },
    {
      "cell_type": "code",
      "source": [
        "c_amod15(a=11,power=123)"
      ],
      "metadata": {
        "id": "_rTNpGAyhY7i"
      },
      "execution_count": null,
      "outputs": []
    },
    {
      "cell_type": "markdown",
      "source": [
        "aaa"
      ],
      "metadata": {
        "id": "CRPn-ERSiQ4F"
      }
    },
    {
      "cell_type": "code",
      "source": [
        "# Specify variables\n",
        "N_COUNT = 8  # number of counting qubits\n",
        "a = 7"
      ],
      "metadata": {
        "id": "s7nZOzUmiTI4"
      },
      "execution_count": null,
      "outputs": []
    },
    {
      "cell_type": "markdown",
      "source": [
        "<p style=\"justify\">\n",
        "Kita juga mengimpor sirkuit untuk <b>QFT</b> (Quantum Fourier Transform). Anda dapat membaca lebih lanjut tentang QFT di bab <a href=\"https://qiskit.org/textbook/ch-algorithms/quantum-fourier-transform.html#generalqft\">transformasi Fourier kuantum</a>:\n",
        "</p>"
      ],
      "metadata": {
        "id": "ahY6MiDjicgi"
      }
    },
    {
      "cell_type": "code",
      "source": [
        "def qft_dagger(n):\n",
        "    \"\"\"n-qubit QFTdagger the first n qubits in circ\"\"\"\n",
        "    qc = QuantumCircuit(n)\n",
        "    # Don't forget the Swaps!\n",
        "    for qubit in range(n//2):\n",
        "        qc.swap(qubit, n-qubit-1)\n",
        "    for j in range(n):\n",
        "        for m in range(j):\n",
        "            qc.cp(-np.pi/float(2**(j-m)), m, j)\n",
        "        qc.h(j)\n",
        "    qc.name = \"QFT†\"\n",
        "    return qc"
      ],
      "metadata": {
        "id": "q9sYBMYjip26"
      },
      "execution_count": null,
      "outputs": []
    },
    {
      "cell_type": "markdown",
      "source": [
        "Dengan blok bangunan ini kita dapat dengan mudah membuat rangkaian untuk algoritma Shor:"
      ],
      "metadata": {
        "id": "wAusi3-hi2_P"
      }
    },
    {
      "cell_type": "code",
      "source": [
        "# Create QuantumCircuit with N_COUNT counting qubits\n",
        "# plus 4 qubits for U to act on\n",
        "qc = QuantumCircuit(N_COUNT + 4, N_COUNT)\n",
        "\n",
        "# Initialize counting qubits\n",
        "# in state |+>\n",
        "for q in range(N_COUNT):\n",
        "    qc.h(q)\n",
        "\n",
        "# And auxiliary register in state |1>\n",
        "qc.x(N_COUNT)\n",
        "\n",
        "# Do controlled-U operations\n",
        "for q in range(N_COUNT):\n",
        "    qc.append(c_amod15(a, 2**q),\n",
        "             [q] + [i+N_COUNT for i in range(4)])\n",
        "\n",
        "# Do inverse-QFT\n",
        "qc.append(qft_dagger(N_COUNT), range(N_COUNT))\n",
        "\n",
        "# Measure circuit\n",
        "qc.measure(range(N_COUNT), range(N_COUNT))\n",
        "qc.draw(\"mpl\",fold=-1)  # -1 means 'do not fold'"
      ],
      "metadata": {
        "id": "KiU_7e9Vi4-B"
      },
      "execution_count": null,
      "outputs": []
    },
    {
      "cell_type": "markdown",
      "source": [
        "Kita lihat hasil apa yang kita ukur:"
      ],
      "metadata": {
        "id": "dKeyte72jIzn"
      }
    },
    {
      "cell_type": "code",
      "source": [
        "# Impor yang diperlukan\n",
        "\n",
        "from qiskit import QuantumCircuit, QuantumRegister, ClassicalRegister\n",
        "from qiskit_aer import AerSimulator\n",
        "from qiskit.visualization import plot_histogram\n",
        "from qiskit.result import marginal_distribution\n",
        "from qiskit.transpiler.preset_passmanagers import generate_preset_pass_manager\n",
        "\n",
        "aer_sim = AerSimulator()\n",
        "pm = generate_preset_pass_manager(backend=aer_sim, optimization_level=2)\n",
        "isa_qc = pm.run(qc)\n",
        "\n",
        "qobj = assemble(isa_qc)\n",
        "results = aer_sim.run(qobj).result()\n",
        "counts = results.get_counts()\n",
        "plot_histogram(counts)"
      ],
      "metadata": {
        "id": "zV3O7cJRjKj2"
      },
      "execution_count": null,
      "outputs": []
    }
  ]
}